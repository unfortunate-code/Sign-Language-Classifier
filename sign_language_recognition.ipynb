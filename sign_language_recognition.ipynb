{
  "nbformat": 4,
  "nbformat_minor": 0,
  "metadata": {
    "colab": {
      "name": "sign_language_recognition.ipynb",
      "provenance": [],
      "collapsed_sections": [],
      "include_colab_link": true
    },
    "kernelspec": {
      "name": "python3",
      "display_name": "Python 3"
    },
    "accelerator": "GPU"
  },
  "cells": [
    {
      "cell_type": "markdown",
      "metadata": {
        "id": "view-in-github",
        "colab_type": "text"
      },
      "source": [
        "<a href=\"https://colab.research.google.com/github/unfortunate-code/Sign-Language-Classifier/blob/main/sign_language_recognition.ipynb\" target=\"_parent\"><img src=\"https://colab.research.google.com/assets/colab-badge.svg\" alt=\"Open In Colab\"/></a>"
      ]
    },
    {
      "cell_type": "code",
      "metadata": {
        "id": "kZjsHTSWOfbc"
      },
      "source": [
        "import pandas as pd\n",
        "import numpy as np\n",
        "import matplotlib.pyplot as plt\n",
        "import keras\n",
        "from keras.models import Sequential\n",
        "from keras.layers import Dense, Conv2D , MaxPool2D , Flatten , Dropout , BatchNormalization\n",
        "from keras.preprocessing.image import ImageDataGenerator\n",
        "from sklearn.model_selection import train_test_split\n",
        "from sklearn.metrics import classification_report,confusion_matrix\n",
        "from sklearn.preprocessing import LabelBinarizer\n",
        "from keras.callbacks import ReduceLROnPlateau"
      ],
      "execution_count": null,
      "outputs": []
    },
    {
      "cell_type": "code",
      "metadata": {
        "colab": {
          "base_uri": "https://localhost:8080/"
        },
        "id": "JNDCsN5oLMe_",
        "outputId": "7aad2573-6696-4025-cb05-3ff5ae6ba515"
      },
      "source": [
        "from google.colab import drive\n",
        "drive.mount('/content/drive')"
      ],
      "execution_count": null,
      "outputs": [
        {
          "output_type": "stream",
          "name": "stdout",
          "text": [
            "Drive already mounted at /content/drive; to attempt to forcibly remount, call drive.mount(\"/content/drive\", force_remount=True).\n"
          ]
        }
      ]
    },
    {
      "cell_type": "code",
      "metadata": {
        "id": "Grnhsu-GOr5y"
      },
      "source": [
        "#load data\n",
        "data_test=pd.read_csv(\"https://raw.githubusercontent.com/VinitaSilaparasetty/hand-gesture-recognition/main/sign_mnist_test.csv\")\n",
        "data_train=pd.read_csv(\"/content/drive/MyDrive/sign_mnist_train.csv\")"
      ],
      "execution_count": null,
      "outputs": []
    },
    {
      "cell_type": "code",
      "source": [
        "def show_img(img, df):\n",
        "  label = data_test['label'][img]\n",
        "  pixels = data_test.iloc[img, 1:]\n",
        "  pixels = np.array(pixels, dtype='uint8')\n",
        "  pixels = pixels.reshape((28, 28))\n",
        "\n",
        "  plt.title('Label is {label}'.format(label=label))\n",
        "  plt.imshow(pixels, cmap='gray')\n",
        "  plt.show()"
      ],
      "metadata": {
        "id": "o-E_zMi9en64"
      },
      "execution_count": null,
      "outputs": []
    },
    {
      "cell_type": "code",
      "source": [
        "show_img(20, data_test)"
      ],
      "metadata": {
        "id": "IkZ9OweqhAyE",
        "outputId": "c1a34b7d-d387-484e-916f-c581273cef2d",
        "colab": {
          "base_uri": "https://localhost:8080/",
          "height": 281
        }
      },
      "execution_count": null,
      "outputs": [
        {
          "output_type": "display_data",
          "data": {
            "image/png": "[encoded data removed]",
            "text/plain": [
              "<Figure size 432x288 with 1 Axes>"
            ]
          },
          "metadata": {
            "needs_background": "light"
          }
        }
      ]
    },
    {
      "cell_type": "code",
      "source": [
        "y_train = data_train['label']\n",
        "y_test = data_test['label']\n",
        "\n",
        "del data_train['label']\n",
        "del data_test['label']"
      ],
      "metadata": {
        "id": "hH3XV4Yfkq-z"
      },
      "execution_count": null,
      "outputs": []
    },
    {
      "cell_type": "code",
      "source": [
        "# Label Binarizer\n",
        "\n",
        "label_binarizer = LabelBinarizer()\n",
        "\n",
        "y_train = label_binarizer.fit_transform(y_train)\n",
        "\n",
        "y_test = label_binarizer.fit_transform(y_test)"
      ],
      "metadata": {
        "id": "D_adlE2-krlq"
      },
      "execution_count": null,
      "outputs": []
    },
    {
      "cell_type": "code",
      "source": [
        "x_train = data_train.values\n",
        "x_test = data_test.values"
      ],
      "metadata": {
        "id": "JAoLRKLckrot"
      },
      "execution_count": null,
      "outputs": []
    },
    {
      "cell_type": "code",
      "source": [
        "# normalization\n",
        "\n",
        "x_train = x_train / 255\n",
        "x_test = x_test / 255"
      ],
      "metadata": {
        "id": "1ZlBUgaJkrsx"
      },
      "execution_count": null,
      "outputs": []
    },
    {
      "cell_type": "code",
      "source": [
        "# reshape\n",
        "\n",
        "x_train = x_train.reshape(-1, 28, 28, 1)\n",
        "\n",
        "x_test = x_test.reshape(-1, 28, 28, 1)"
      ],
      "metadata": {
        "id": "mAl_cGpJmqYe"
      },
      "execution_count": null,
      "outputs": []
    },
    {
      "cell_type": "code",
      "source": [
        "# data augmentation\n",
        "\n",
        "data_generator = ImageDataGenerator(\n",
        "    featurewise_center=False,\n",
        "    samplewise_center=False,\n",
        "    featurewise_std_normalization=False,\n",
        "    samplewise_std_normalization=False,\n",
        "    zca_whitening=False,\n",
        "    rotation_range=10,\n",
        "    zoom_range=0.1,\n",
        "    width_shift_range=0.1,\n",
        "    height_shift_range=0.1,\n",
        "    horizontal_flip=False,\n",
        "    vertical_flip=False\n",
        ")\n",
        "\n",
        "data_generator.fit(x_train)"
      ],
      "metadata": {
        "id": "F3iZSh8phDdv"
      },
      "execution_count": null,
      "outputs": []
    },
    {
      "cell_type": "code",
      "source": [
        "# build model\n",
        "\n",
        "model = Sequential()\n",
        "model.add(Conv2D(75, (3,3), strides = 1, padding='same', activation='relu', input_shape=(28,28,1)))\n",
        "model.add(BatchNormalization())\n",
        "model.add(MaxPool2D((2,2), strides=2,padding='same'))\n",
        "model.add(Conv2D(50, (3,3), strides=1,padding='same', activation='relu'))\n",
        "model.add(Dropout(0.2))\n",
        "model.add(BatchNormalization())\n",
        "model.add(MaxPool2D((2,2), strides=2, padding='same'))\n",
        "model.add(Conv2D(25, (3,3), strides=1, padding='same', activation='relu'))\n",
        "model.add(MaxPool2D((2,2), strides=2, padding='same'))\n",
        "model.add(Flatten())\n",
        "model.add(Dense(units=512, activation='relu'))\n",
        "model.add(Dropout(0.3))\n",
        "model.add(Dense(units=24,activation='softmax'))\n"
      ],
      "metadata": {
        "id": "q_n7dAEtnKLA"
      },
      "execution_count": null,
      "outputs": []
    },
    {
      "cell_type": "code",
      "source": [
        "model.compile(optimizer='adam', loss='categorical_crossentropy', metrics=['accuracy'])"
      ],
      "metadata": {
        "id": "mrVjltbArapi"
      },
      "execution_count": null,
      "outputs": []
    },
    {
      "cell_type": "code",
      "source": [
        "#set learning rate\n",
        "\n",
        "learning_rate_reduction = ReduceLROnPlateau(monitor='val_accuracy', patience=2, verbose=1,factor=0.5,min_lr=0.00001)"
      ],
      "metadata": {
        "id": "pgkBWm3Qr6rO"
      },
      "execution_count": null,
      "outputs": []
    },
    {
      "cell_type": "code",
      "source": [
        "#train model\n",
        "model.fit(data_generator.flow(x_train, y_train, batch_size=128), epochs=20, validation_data=(x_test,y_test), callbacks=[learning_rate_reduction])"
      ],
      "metadata": {
        "id": "IkkqaIZoskwa",
        "outputId": "02022556-4d4a-4f25-ed7e-7619cbd41075",
        "colab": {
          "base_uri": "https://localhost:8080/"
        }
      },
      "execution_count": null,
      "outputs": [
        {
          "output_type": "stream",
          "name": "stdout",
          "text": [
            "Epoch 1/20\n",
            "215/215 [==============================] - 26s 110ms/step - loss: 1.1398 - accuracy: 0.6397 - val_loss: 3.3187 - val_accuracy: 0.0920 - lr: 0.0010\n",
            "Epoch 2/20\n",
            "215/215 [==============================] - 13s 62ms/step - loss: 0.2215 - accuracy: 0.9256 - val_loss: 1.2021 - val_accuracy: 0.6023 - lr: 0.0010\n",
            "Epoch 3/20\n",
            "215/215 [==============================] - 14s 63ms/step - loss: 0.1048 - accuracy: 0.9650 - val_loss: 0.3650 - val_accuracy: 0.8869 - lr: 0.0010\n",
            "Epoch 4/20\n",
            "215/215 [==============================] - 13s 62ms/step - loss: 0.0733 - accuracy: 0.9756 - val_loss: 0.2371 - val_accuracy: 0.9262 - lr: 0.0010\n",
            "Epoch 5/20\n",
            "215/215 [==============================] - 14s 67ms/step - loss: 0.0519 - accuracy: 0.9830 - val_loss: 0.0341 - val_accuracy: 0.9912 - lr: 0.0010\n",
            "Epoch 6/20\n",
            "215/215 [==============================] - 13s 63ms/step - loss: 0.0439 - accuracy: 0.9853 - val_loss: 0.5379 - val_accuracy: 0.8426 - lr: 0.0010\n",
            "Epoch 7/20\n",
            "215/215 [==============================] - ETA: 0s - loss: 0.0334 - accuracy: 0.9891\n",
            "Epoch 00007: ReduceLROnPlateau reducing learning rate to 0.0005000000237487257.\n",
            "215/215 [==============================] - 14s 66ms/step - loss: 0.0334 - accuracy: 0.9891 - val_loss: 0.1400 - val_accuracy: 0.9554 - lr: 0.0010\n",
            "Epoch 8/20\n",
            "215/215 [==============================] - 13s 62ms/step - loss: 0.0198 - accuracy: 0.9938 - val_loss: 0.0142 - val_accuracy: 0.9961 - lr: 5.0000e-04\n",
            "Epoch 9/20\n",
            "215/215 [==============================] - 15s 71ms/step - loss: 0.0138 - accuracy: 0.9961 - val_loss: 0.0061 - val_accuracy: 0.9985 - lr: 5.0000e-04\n",
            "Epoch 10/20\n",
            "215/215 [==============================] - 14s 64ms/step - loss: 0.0132 - accuracy: 0.9960 - val_loss: 0.0120 - val_accuracy: 0.9968 - lr: 5.0000e-04\n",
            "Epoch 11/20\n",
            "215/215 [==============================] - ETA: 0s - loss: 0.0115 - accuracy: 0.9965\n",
            "Epoch 00011: ReduceLROnPlateau reducing learning rate to 0.0002500000118743628.\n",
            "215/215 [==============================] - 14s 64ms/step - loss: 0.0115 - accuracy: 0.9965 - val_loss: 0.0158 - val_accuracy: 0.9950 - lr: 5.0000e-04\n",
            "Epoch 12/20\n",
            "215/215 [==============================] - 13s 62ms/step - loss: 0.0094 - accuracy: 0.9970 - val_loss: 0.0086 - val_accuracy: 0.9965 - lr: 2.5000e-04\n",
            "Epoch 13/20\n",
            "215/215 [==============================] - ETA: 0s - loss: 0.0071 - accuracy: 0.9977\n",
            "Epoch 00013: ReduceLROnPlateau reducing learning rate to 0.0001250000059371814.\n",
            "215/215 [==============================] - 14s 63ms/step - loss: 0.0071 - accuracy: 0.9977 - val_loss: 0.0049 - val_accuracy: 0.9978 - lr: 2.5000e-04\n",
            "Epoch 14/20\n",
            "215/215 [==============================] - 14s 64ms/step - loss: 0.0060 - accuracy: 0.9980 - val_loss: 0.0027 - val_accuracy: 0.9999 - lr: 1.2500e-04\n",
            "Epoch 15/20\n",
            "215/215 [==============================] - 14s 63ms/step - loss: 0.0047 - accuracy: 0.9983 - val_loss: 0.0014 - val_accuracy: 1.0000 - lr: 1.2500e-04\n",
            "Epoch 16/20\n",
            "215/215 [==============================] - 14s 65ms/step - loss: 0.0056 - accuracy: 0.9981 - val_loss: 0.0019 - val_accuracy: 0.9999 - lr: 1.2500e-04\n",
            "Epoch 17/20\n",
            "215/215 [==============================] - ETA: 0s - loss: 0.0046 - accuracy: 0.9986\n",
            "Epoch 00017: ReduceLROnPlateau reducing learning rate to 6.25000029685907e-05.\n",
            "215/215 [==============================] - 14s 64ms/step - loss: 0.0046 - accuracy: 0.9986 - val_loss: 0.0020 - val_accuracy: 0.9999 - lr: 1.2500e-04\n",
            "Epoch 18/20\n",
            "215/215 [==============================] - 14s 63ms/step - loss: 0.0046 - accuracy: 0.9989 - val_loss: 0.0016 - val_accuracy: 1.0000 - lr: 6.2500e-05\n",
            "Epoch 19/20\n",
            "215/215 [==============================] - ETA: 0s - loss: 0.0036 - accuracy: 0.9989\n",
            "Epoch 00019: ReduceLROnPlateau reducing learning rate to 3.125000148429535e-05.\n",
            "215/215 [==============================] - 13s 62ms/step - loss: 0.0036 - accuracy: 0.9989 - val_loss: 0.0014 - val_accuracy: 0.9999 - lr: 6.2500e-05\n",
            "Epoch 20/20\n",
            "215/215 [==============================] - 13s 63ms/step - loss: 0.0041 - accuracy: 0.9988 - val_loss: 0.0011 - val_accuracy: 1.0000 - lr: 3.1250e-05\n"
          ]
        },
        {
          "output_type": "execute_result",
          "data": {
            "text/plain": [
              "<keras.callbacks.History at 0x7f1a70102c90>"
            ]
          },
          "metadata": {},
          "execution_count": 15
        }
      ]
    },
    {
      "cell_type": "code",
      "source": [
        "model.evaluate(x_test, y_test)"
      ],
      "metadata": {
        "id": "1RqytvDCt1tU",
        "outputId": "2cd4ac15-5b00-4976-db14-092326bbca79",
        "colab": {
          "base_uri": "https://localhost:8080/"
        }
      },
      "execution_count": null,
      "outputs": [
        {
          "output_type": "stream",
          "name": "stdout",
          "text": [
            "225/225 [==============================] - 1s 5ms/step - loss: 0.0011 - accuracy: 1.0000\n"
          ]
        },
        {
          "output_type": "execute_result",
          "data": {
            "text/plain": [
              "[0.0010705988388508558, 1.0]"
            ]
          },
          "metadata": {},
          "execution_count": 16
        }
      ]
    },
    {
      "cell_type": "code",
      "source": [
        "predict_x = model.predict(x_test)\n",
        "predictions = np.argmax(predict_x, axis = 1)\n",
        "for i in range(len(predictions)):\n",
        "  if (predictions[i] >= 9):\n",
        "    predictions[i] += 1\n",
        "predictions[:5]"
      ],
      "metadata": {
        "id": "L3CdYMNOuA5y",
        "outputId": "886c649a-92ae-4283-a2e5-abd3bdc7b06e",
        "colab": {
          "base_uri": "https://localhost:8080/"
        }
      },
      "execution_count": null,
      "outputs": [
        {
          "output_type": "execute_result",
          "data": {
            "text/plain": [
              "array([ 6,  5, 10,  0,  3])"
            ]
          },
          "metadata": {},
          "execution_count": 17
        }
      ]
    },
    {
      "cell_type": "code",
      "source": [
        "# save model\n",
        "model.save('hand_gesture.h5')"
      ],
      "metadata": {
        "id": "BA4Lu78fu2fb"
      },
      "execution_count": null,
      "outputs": []
    }
  ]
}